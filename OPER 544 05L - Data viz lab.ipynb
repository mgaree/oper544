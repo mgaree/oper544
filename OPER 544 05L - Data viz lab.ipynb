{
 "cells": [
  {
   "cell_type": "markdown",
   "metadata": {},
   "source": [
    "# Visualizing data in Python\n",
    "\n",
    "There are three factors that go into making a high-quality data visualization:\n",
    "\n",
    "1. wanting to do high-quality work\n",
    "2. knowing what *high-quality* means\n",
    "3. knowing how to get the software to make the graphic the way you want\n",
    "\n",
    "Monday's lecture was aimed at #2. This lab is aimed at #3. (You'll have to look inside your heart for #1!)\n",
    "\n",
    "Python has various packages for visualizing data. Three that I'll mention here are Matplotlib, Seaborn, and Plotly. There's not really a *right answer* on which to use. There are generally costs and benefits to each one. Sometimes it makes sense to use more than one package for an analysis project. You'll figure out what works best for you and your analysis needs through practice and self-study. \n",
    "\n",
    "(I use Matplotlib for nearly everything because it gives me complete control over every aspect of a graph; I could probably work more efficiently by trading away some control in favor of some of the built-in features of other packages. For instance, I could sometimes add in Seaborn to get better default fonts & colors automatically and just accept that their defaults might not exactly match my choices. I rarely do that because part of me enjoys obsessing over the details of graphs. Your mileage may vary.)\n",
    "\n",
    "We'll start by introducing the visualization packages and briefly comparing them. Then you'll do an exercise to apply some of the graphical principles from lecture to a graphic.\n",
    "\n",
    "(*Version note*: Matplotlib and Seaborn are not fully backward compatible. I developed this lab notebook using Matplotlib **3.3.4**, Seaborn **0.9.0**, and Plotly **4.14.3**. If your versions are different and something doesn't work, let me know. A web search will often resolve the difference.)"
   ]
  },
  {
   "cell_type": "markdown",
   "metadata": {},
   "source": [
    "## Introducing Matplotlib, Seaborn, and Plotly\n",
    "\n",
    "[Matplotlib](https://matplotlib.org/stable/tutorials/index.html) is a Python library that replicates most of Matlab's graphing approach, so any experience you have with Matlab graphs should transfer well. It's the oldest library of the three mentioned here, and it probably has the most examples and references out there (over 60K questions on StackOverflow, versus ~10K for each of Seaborn & Plotly).\n",
    "\n",
    "Also note that Pandas internally uses Matplotlib for its dataframe plotting functions, so familarity with Matplotlib can let you customize Panda's plots."
   ]
  },
  {
   "cell_type": "code",
   "execution_count": null,
   "metadata": {},
   "outputs": [],
   "source": [
    "import matplotlib  # when you use matplotlib yourself, you'll not need these first two lines\n",
    "print('matplotlib version', matplotlib. __version__)\n",
    "\n",
    "import matplotlib.pyplot as plt\n",
    "\n",
    "# the following line is just for Jupyter notebooks--it makes figures display in the notebook \n",
    "# instead of in a separate window (which doesn't play nicely with the notebook engine)\n",
    "%matplotlib inline\n",
    "\n",
    "plt.plot([1, 2, 3, 4], [1, 4, 2, 3])"
   ]
  },
  {
   "cell_type": "markdown",
   "metadata": {},
   "source": [
    "[Seaborn](https://seaborn.pydata.org/tutorial/relational.html) \"is a Python data visualization library based on matplotlib. It provides a high-level interface for drawing attractive and informative statistical graphics.\""
   ]
  },
  {
   "cell_type": "code",
   "execution_count": null,
   "metadata": {},
   "outputs": [],
   "source": [
    "import seaborn as sns\n",
    "print('seaborn version', sns.__version__)\n",
    "\n",
    "sns.lineplot(x=[1, 2, 3, 4], y=[1, 4, 2, 3])"
   ]
  },
  {
   "cell_type": "markdown",
   "metadata": {},
   "source": [
    "This looks identical to Matplotlib except for the datatype printed above the graphic. But we skipped a step in setting up Seaborn:"
   ]
  },
  {
   "cell_type": "code",
   "execution_count": null,
   "metadata": {},
   "outputs": [],
   "source": [
    "# Apply a style\n",
    "sns.set_style('whitegrid')  # one of {darkgrid, whitegrid, dark, white, ticks}\n",
    "\n",
    "sns.lineplot(x=[1, 2, 3, 4], y=[1, 4, 2, 3])"
   ]
  },
  {
   "cell_type": "markdown",
   "metadata": {},
   "source": [
    "I question whether the gridlines are needed and if there need to be so many tick marks (re: data-ink ratio), but it looks fancier."
   ]
  },
  {
   "cell_type": "markdown",
   "metadata": {},
   "source": [
    "[Plotly](https://plotly.com/python/) has libraries for Python, R, and JavaScript, so getting comfortable with Plotly's approach to graphing can give you some flexibility in which langauge you use. "
   ]
  },
  {
   "cell_type": "code",
   "execution_count": null,
   "metadata": {},
   "outputs": [],
   "source": [
    "#!pip install plotly"
   ]
  },
  {
   "cell_type": "code",
   "execution_count": null,
   "metadata": {},
   "outputs": [],
   "source": [
    "# If this command fails, you may need to install plotly. \n",
    "# Uncomment the previous line, run it, then rerun this line\n",
    "#\n",
    "# If you don't want to install anything today, you may skip the Plotly demo.\n",
    "import plotly  # like with matplotlib, you won't need to do these two lines\n",
    "print('plotly version', plotly.__version__)\n",
    "\n",
    "# this command takes a lot longer to run than you might expect; be patient\n",
    "import plotly.express as px\n",
    "\n",
    "px.line(x=[1, 2, 3, 4], y=[1, 4, 2, 3])"
   ]
  },
  {
   "cell_type": "markdown",
   "metadata": {},
   "source": [
    "Much fancier, though I have similar comments about data-ink. There's also interactivity enabled by default (mouse over the graph to see controls). You can get interactivity with the other packages, but it takes another command or two."
   ]
  },
  {
   "cell_type": "markdown",
   "metadata": {},
   "source": [
    "For completeness, here is the same plot using a Pandas dataframe:"
   ]
  },
  {
   "cell_type": "code",
   "execution_count": null,
   "metadata": {},
   "outputs": [],
   "source": [
    "import pandas as pd\n",
    "\n",
    "df = pd.DataFrame(data={'x': [1, 2, 3, 4], 'y': [1, 4, 2, 3]})\n",
    "df.plot(x='x', y='y')"
   ]
  },
  {
   "cell_type": "markdown",
   "metadata": {},
   "source": [
    "Looks nearly identical to the plot using Seaborn. Maybe Pandas inherits Seaborn's configuration?"
   ]
  },
  {
   "cell_type": "code",
   "execution_count": null,
   "metadata": {},
   "outputs": [],
   "source": [
    "sns.set_style('darkgrid')\n",
    "df.plot(x='x', y='y')"
   ]
  },
  {
   "cell_type": "markdown",
   "metadata": {},
   "source": [
    "So it does.\n",
    "\n",
    "Actually, Seaborn's set_style function edits the settings in Matplotlib, and Pandas is using Matplotlib directly. You can verify this by re-running the cell for the very first graph in this notebook.\n",
    "\n",
    "<font color=\"red\">Pitfall:</font> High-level packages like NumPy, Pandas, and graphing packages often form an ecosystem of sorts. This lets them take advantage of all the good things, but it also means they sometimes interact in ways the inexperienced programmer might not expect. This example was a minor interaction, but it hints at the risks associated of jumping straight into using high-level packages without understanding how they work at a lower level.\n",
    "\n",
    "Not only do the high-level packages often interact behind the scenes, they also tend to play nicely with each other's data structures:"
   ]
  },
  {
   "cell_type": "code",
   "execution_count": null,
   "metadata": {},
   "outputs": [],
   "source": [
    "sns.relplot(data=df, kind='line')  # relplot is a more advanced interface in Seaborn"
   ]
  },
  {
   "cell_type": "code",
   "execution_count": null,
   "metadata": {},
   "outputs": [],
   "source": [
    "px.line(df, x='x', y='y', title='Important data')"
   ]
  },
  {
   "cell_type": "code",
   "execution_count": null,
   "metadata": {},
   "outputs": [],
   "source": [
    "import numpy as np\n",
    "\n",
    "data_arr = np.array([[1, 2, 3, 4], [1, 4, 2, 3]])"
   ]
  },
  {
   "cell_type": "code",
   "execution_count": null,
   "metadata": {},
   "outputs": [],
   "source": [
    "plt.plot(*data_arr)  # *data_arr lets us \"unpack\" the two rows of the array into x and y without specifying that explicitly"
   ]
  },
  {
   "cell_type": "markdown",
   "metadata": {},
   "source": [
    "So, Matplotlib, Seaborn, & Plotly: which one do you choose? I don't know. Some members of the AFAC are embracing Plotly, so that could be a good choice for future interoperability. Pandas, Seaborn, and probably others leverage Matplotlib under the hood, so learning Matplotlib gives you rather robust skills. I plan to stick with Matplotlib and supplement with Seaborn for some of the fancier graphs and styling, though I plan to learn more about Plotly in the future.\n",
    "\n",
    "Because I want to focus on customizing the elements of a graph for this lab rather than quickly producing default graphs, I'm going to use Matplotlib for the rest of this notebook, either directly or for customizing Pandas plots. For your homework and beyond, the choice is yours. If you come across something superior to anything presented here, please let me know!"
   ]
  },
  {
   "cell_type": "markdown",
   "metadata": {},
   "source": [
    "## Parts of a figure\n",
    "(From https://matplotlib.org/stable/tutorials/introductory/usage.html#sphx-glr-tutorials-introductory-usage-py)\n",
    "\n",
    "This figure shows the names we use for the various elements of a graph. The language is fairly common across packages, and knowing the name of the element you want to change is an important first step in changing it.\n",
    "\n",
    "![title](https://matplotlib.org/stable/_images/anatomy.png)"
   ]
  },
  {
   "cell_type": "markdown",
   "metadata": {},
   "source": [
    "## Matplotlib basics\n",
    "\n",
    "To work with some of the basics of plotting using Matplotlib, let's recreate the sine-cosine graphs from the lecture (slide 10)."
   ]
  },
  {
   "cell_type": "code",
   "execution_count": null,
   "metadata": {},
   "outputs": [],
   "source": [
    "# create the data\n",
    "x = np.linspace(-np.pi, np.pi, 100)\n",
    "sin_x = np.sin(x)\n",
    "cos_x = np.cos(x)"
   ]
  },
  {
   "cell_type": "code",
   "execution_count": null,
   "metadata": {},
   "outputs": [],
   "source": [
    "# 'undo' all the custom styling from Seaborn et al.\n",
    "plt.style.use('default')"
   ]
  },
  {
   "cell_type": "code",
   "execution_count": null,
   "metadata": {},
   "outputs": [],
   "source": [
    "# this is maybe the better way to start work on a graph.\n",
    "# here, we create a new figure and axis object to work with, \n",
    "# instead of doing everything directly using plt.<function>.\n",
    "fig, ax = plt.subplots()\n",
    "\n",
    "ax.plot(x, sin_x)  # see, we're calling plot() on the ax axis object instead of directly on plt\n",
    "ax.plot(x, cos_x)\n",
    "\n",
    "# since we ran %matplotlib inline earlier, the following is not needed\n",
    "# however, if you ever write stand-alone .py scripts and never see your\n",
    "# graphs, run plt.show() or fig.show() to make them appear\n",
    "# plt.show()"
   ]
  },
  {
   "cell_type": "markdown",
   "metadata": {},
   "source": [
    "This is mostly what we see on the left side of the figure in the slides. To get the rest of the way there, we need a few changes from the default:\n",
    "\n",
    "* change horizontal range to [-4, 4]\n",
    "* reduce the number of tick labels on the vertical axis\n",
    "* change the line colors\n",
    "* move the tick marks to the inside of the frame/spines\n",
    "* add tick marks on the top and right spines"
   ]
  },
  {
   "cell_type": "code",
   "execution_count": null,
   "metadata": {},
   "outputs": [],
   "source": [
    "# we need to create a new figure before making these changes\n",
    "fig, ax = plt.subplots()\n",
    "\n",
    "# changes\n",
    "\n",
    "# change horizontal range to [-4, 4]\n",
    "ax.set_xlim(-4, 4)  # set_xlim can also take a tuple/list, e.g., set_xlim([-4, 4])\n",
    "\n",
    "# tick mark changes:\n",
    "#   reduce the number of tick labels on the vertical axis\n",
    "plt.locator_params(axis='y', nbins=5)  # specify 5 tick marks but let them be positioned automatically\n",
    "\n",
    "## alternatively, if you want custom placement:\n",
    "# ax.set_yticks([-1, -0.25, 0, 0.75, 1])\n",
    "\n",
    "#   add tick marks on the top and right spines\n",
    "ax.tick_params(top=True, right=True)\n",
    "\n",
    "#   move the tick marks to the inside of the frame/spines\n",
    "ax.tick_params(axis='both', direction='in')\n",
    "\n",
    "# change the line colors (and line width, why not?)\n",
    "ax.plot(x, sin_x, c='green', linewidth=1)\n",
    "ax.plot(x, cos_x, c='blue', linewidth=1)\n"
   ]
  },
  {
   "cell_type": "markdown",
   "metadata": {},
   "source": [
    "There. That's not really any better than the default result from calling `ax.plot()`, but it is a little different.\n",
    "\n",
    "Many times when we make graphs, we actually want to save them somewhere to be included in a slide deck, thesis, or elsewhere."
   ]
  },
  {
   "cell_type": "code",
   "execution_count": null,
   "metadata": {},
   "outputs": [],
   "source": [
    "fig.savefig(\"test.png\")"
   ]
  },
  {
   "cell_type": "markdown",
   "metadata": {},
   "source": [
    "Now there should be a new file in your working directory.\n",
    "\n",
    "`fig.savefig` can take quite a few extra settings for customization and can write to different file types. If you're writing your thesis in LaTeX, exporting images to .pdf files is a very good move because they don't get blurry if you rescale them.\n",
    "\n",
    "Now, let's try to make the \"improved\" half of the sine-cosine graph. What are some of the key elements?\n",
    "\n",
    "* legend in the top left\n",
    "* no spines\n",
    "* yes axis lines\n",
    "* x-axis labels in fractions of $\\pi$\n",
    "* fewer vertical axis tick labels\n",
    "* an annotation: the dashed line and equations at $x = 2\\pi / 3$\n",
    "* sine line changed to red\n",
    "* tick labels drawn along axes instead of edges of figure\n",
    "\n",
    "When you break down the desired result into its elements and can use the \"right\" names for those elements, these changes can be easy to search for & apply."
   ]
  },
  {
   "cell_type": "code",
   "execution_count": null,
   "metadata": {},
   "outputs": [],
   "source": [
    "# again, we need to create a new figure before making these changes\n",
    "fig, ax = plt.subplots()\n",
    "\n",
    "# no spines\n",
    "## I'm leaving this here as example code for times you want to remove all\n",
    "# the spines and NOT also put the tick labels in the center of the figure,\n",
    "# but since I want to do the latter, there's a better way\n",
    "# for edge, spine in ax.spines.items():\n",
    "#     spine.set_visible(False)\n",
    "\n",
    "# relocate spines, which moves tick labels with them\n",
    "# https://moonbooks.org/Articles/How-to-put-the-origin-in-the-center-of-the-figure-with-matplotlib-/\n",
    "ax.spines['left'].set_position('zero')\n",
    "ax.spines['right'].set_visible(False)\n",
    "ax.spines['bottom'].set_position('zero')\n",
    "ax.spines['top'].set_color('none')  # could also do set_visible, but maybe you want to change the color instead?\n",
    "\n",
    "\n",
    "# yes axis lines\n",
    "# https://stackoverflow.com/a/53200752\n",
    "ax.axhline(0, color='black', linewidth=1)  # x = 0\n",
    "# TODO add axis line at y = 0\n",
    "\n",
    "# x-axis labels in fractions of  𝜋 \n",
    "ax.set_xticks([-np.pi, -np.pi/2, 0, np.pi/2, np.pi])  # this sets the locations, but not the label text\n",
    "ax.set_xticklabels(['-pi', '-pi/2', '0', 'pi/2', 'pi'])\n",
    "\n",
    "# TODO try using this version of tick labels instead (may not work on your system)\n",
    "# ax.set_xticklabels(['$-\\pi$', '$-\\pi/2$', '0', '$\\pi/2$', '$\\pi$'])\n",
    "\n",
    "\n",
    "# fewer vertical axis tick labels\n",
    "ax.set_yticks([-1, 0, 1])\n",
    "# TODO make the tick label read '+1' instead of just '1'\n",
    "\n",
    "# make tick labels get drawn \"on top\"; right now, the sine/cosine lines obscure them\n",
    "# \n",
    "# https://stackoverflow.com/a/53433594 to add a background color to the labels\n",
    "# (I don't love the look, but it's in the original that I'm trying to replicate)\n",
    "plt.setp(ax.get_xticklabels(), backgroundcolor=\"#ffffffaa\")  # ffffff = white, 99 = transparency level\n",
    "# TODO give the y-axis labels the same treatment\n",
    "\n",
    "# https://stackoverflow.com/a/48332569, from search for \"matplotlib zorder tick labels\"\n",
    "plt.rcParams[\"axes.axisbelow\"] = False  # makes axis & labels be drawn above the data lines\n",
    "\n",
    "\n",
    "# add annotation\n",
    "ax.vlines(x=2*np.pi/3, ymin=0, ymax=np.sin(2*np.pi/3), color='red', linewidth=0.5, linestyle='--')\n",
    "\n",
    "# there's not a great way to auto-position annotations on graphs; it's just the nature of the beast\n",
    "# depending on the complexity of what you're trying to do, it can make more sense to add the\n",
    "# annotations after the fact in some other software program. \n",
    "# Or be prepared to do lots of tweaking for the `xytext` value...\n",
    "#\n",
    "# this code is ugly but not particularly complex\n",
    "ax.annotate('sin(2pi/3)=sqrt(3)/2', xy=(2*np.pi/3, np.sin(2*np.pi/3)), xytext=(2.75, 1), ha='left', va='center',\n",
    "           arrowprops=dict(arrowstyle=\"->\", connectionstyle=\"arc3,rad=0.2\"))\n",
    "\n",
    "# for more on annotations, see https://matplotlib.org/stable/gallery/text_labels_and_annotations/annotation_demo.html\n",
    "\n",
    "# TODO add annotation for cosine graph\n",
    "\n",
    "# TODO add large markers (circle/point) at the annotated points; probably easy to do with more calls to `ax.plot()`\n",
    "\n",
    "# plot the data\n",
    "#   by adding `label=` to the plot call, that sets what text to show in the legend\n",
    "ax.plot(x, sin_x, label='sine')  # TODO make sine red and cosine blue\n",
    "ax.plot(x, cos_x, label='cosine')\n",
    "\n",
    "# legend in the top left\n",
    "ax.legend()  # TODO remove border from legend and make cosine show up first\n",
    "\n",
    "# TODO probably only need to write the '0' tick label on one axis, since it's the origin\n"
   ]
  },
  {
   "cell_type": "markdown",
   "metadata": {},
   "source": [
    "### <font color=\"blue\">Task</font>\n",
    "\n",
    "I left several `TODO`s in the code above. Please fix them! The end result should be fairly close to the right image from slide 10."
   ]
  },
  {
   "cell_type": "markdown",
   "metadata": {},
   "source": [
    "*Putting them together* It's often nice to have related graphs rendered in the same figure. For instance, if you have multiple scatter plots that use the same range on one of their axes, putting them in the same figure makes it easy to ensure they are scaled the same. This support accurate comparisons by the reader."
   ]
  },
  {
   "cell_type": "code",
   "execution_count": null,
   "metadata": {},
   "outputs": [],
   "source": [
    "# https://matplotlib.org/stable/gallery/subplots_axes_and_figures/subplot.html#multiple-subplots\n",
    "x1 = np.linspace(0.0, 5.0)\n",
    "y1 = np.cos(2 * np.pi * x1) * np.exp(-x1)\n",
    "y2 = np.cos(2 * np.pi * x1)\n",
    "\n",
    "fig, (ax1, ax2) = plt.subplots(2, 1, sharex=True)  # sharex=True makes the two subplots use the same x axis\n",
    "fig.suptitle('A tale of 2 subplots')\n",
    "\n",
    "ax1.plot(x1, y1, 'o-')\n",
    "ax1.set_ylabel('Damped oscillation')\n",
    "\n",
    "ax2.plot(x1, y2, '.-')\n",
    "ax2.set_xlabel('time (s)')\n",
    "ax2.set_ylabel('Undamped')"
   ]
  },
  {
   "cell_type": "markdown",
   "metadata": {},
   "source": [
    "### <font color=\"blue\">Task</font>\n",
    "\n",
    "1. Go to the Matplotlib examples page [here](https://matplotlib.org/stable/gallery/index.html).\n",
    "2. Choose any one of the examples that looks interesting to you, and copy-paste the code into this notebook.\n",
    "3. Run the code to see the result.\n",
    "4. Make changes to **three different elements** of the graph.\n",
    "\n",
    "For the changes, you can edit some of the input parameters that make up the example, or you can add/edit other chart elements (e.g., if there is no title on the chart, you could add a title). The point is to get you a bit more comfortable with the iterative process that is graph making. I strongly encourage you to spend some time skimming the documentation to learn more about all the options available to you."
   ]
  },
  {
   "cell_type": "markdown",
   "metadata": {},
   "source": [
    "## Completion\n",
    "\n",
    "When you have read and executed everything in this notebook and completed the tasks above (fixing the TODOs in the sine/cosine graph and editing an example graph), you are done. No graded submission today. You should switch over to work on the data visualization homework assignment."
   ]
  }
 ],
 "metadata": {
  "kernelspec": {
   "display_name": "Python 3",
   "language": "python",
   "name": "python3"
  },
  "language_info": {
   "codemirror_mode": {
    "name": "ipython",
    "version": 3
   },
   "file_extension": ".py",
   "mimetype": "text/x-python",
   "name": "python",
   "nbconvert_exporter": "python",
   "pygments_lexer": "ipython3",
   "version": "3.6.8"
  }
 },
 "nbformat": 4,
 "nbformat_minor": 2
}
