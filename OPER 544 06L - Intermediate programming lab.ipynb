{
 "cells": [
  {
   "cell_type": "markdown",
   "metadata": {},
   "source": [
    "Today's lab is a bit of a...\n",
    "\n",
    "# Choose your own adventure!\n",
    "\n",
    "I've provided readings and exercises on several programming topics. Choose **two** *(or more!)* topics to work through. The material on these topics is intended to be quick-start, get your hands a *little bit* dirty. Do not be fooled into thinking that this is all there is---each of these topics has immense depth and would take many, many hours of study and practice to master. But working through these topics will show you some of the resources available and build your own confidence with writing code.\n",
    "\n",
    "Today's work is <font color=\"green\">ungraded</font>, with two notes: 1) active participation is still required, and 2) you may optionally [submit your work](https://lms.au.af.edu/courses/24019/assignments/207386) from today for constructive feedback.\n",
    "\n",
    "Below is a short description of each topic with a link to that topic's notebook. My advice: read all the descriptions, choose two topics, and download their notebooks. Budget about <font color=\"green\">45 minutes per topic</font> (initially). This allows time for reading this intro page, taking the quiz, and finishing up homework or today's topics. You are dismissed at 1600 today. I have no estimate on how long each topic will take; your personal working speed and how deeply you choose to read on a topic are in play.\n",
    "\n",
    "\n",
    "## How to choose?\n",
    "\n",
    "You might not know where to begin on choosing topics. Here are some ideas: pick topics that...\n",
    "\n",
    "* sound fun to you personally\n",
    "* you think are relevant to your DSS\n",
    "* others in your DSS group are **not** doing (this adds skill diversity)\n",
    "* others in your DSS group are doing (this adds skill expertise)\n",
    "* `import random; random.randint(1, 6)`\n",
    "\n",
    "Ask me if you need more guidance."
   ]
  },
  {
   "cell_type": "markdown",
   "metadata": {},
   "source": [
    "## Topic 1: User interface\n",
    "\n",
    "We'll cover more of the theory of UI design in Week 8, but this will give you a head-start on writing interactivity into your programs. We'll start with some basic terminology, then you'll choose one of two Python UI libraries to use to make a simple (TKinter and PySimpleGUI) user interface.\n",
    "\n",
    "(For a more light-weight UI to embed within a Jupyter notebook, you can learn about iPython widgets [here](https://ipython-books.github.io/33-mastering-widgets-in-the-jupyter-notebook/).)\n",
    "\n",
    "[Topic 1 notebook](./OPER%20544%2006L%20Topic%201%20-%20User%20interface.ipynb)\n",
    "\n",
    "\n",
    "## Topic 2: Advanced graphing\n",
    "\n",
    "Most Matplotlib tutorials cover the same set of standard plots: bar charts, scatter plots, line graphs. My lectures cover more advanced applications of data visualizations. This topic works toward bridging that gap.\n",
    "\n",
    "[Topic 2 notebook](./OPER%20544%2006L%20Topic%202%20-%20Advanced%20graphing.ipynb#)\n",
    "\n",
    "\n",
    "## Topic 3: *Module*-ar code\n",
    "\n",
    "So far, we've done our Python coding in Jupyter notebooks. They're great for lots of things: academic activities, prototyping your own programs, richly documenting your work, and more. But sometimes you may want your code to \"stand alone\" more like a typical computer program. In this topic, we package our code into .py files called modules and note some of the ways to reuse that code in other places.\n",
    "\n",
    "[Topic 3 notebook](./OPER%20544%2006L%20Topic%203%20-%20Module-ar%20code.ipynb#)\n",
    "\n",
    "\n",
    "## Topic 4: Web development\n",
    "\n",
    "Many prominent web sites run on Python, such as Instagram and reddit ([source](https://learn.onemonth.com/10-famous-websites-built-using-python/)). In 45 minutes, you might not replicate those projects, but you can produce something more sophisticated than you might think!\n",
    "\n",
    "[Topic 4 notebook](./OPER%20544%2006L%20Topic%204%20-%20Web%20development.ipynb#)\n",
    "\n",
    "\n",
    "## Topic 5: Database demo\n",
    "\n",
    "We touched on relational databases in Week 4 without any application in Python. In this topic, I apply relational database principles to the actor-movie database from our earlier homework. I use Pandas to create a pseudo-database using DataFrames due to their familiarity to many of you. (I'm looking into a SQL version of this for a future lab.)\n",
    "\n",
    "[Topic 5 notebook](./OPER%20544%2006L%20Topic%205%20-%20Database%20demo.ipynb)\n",
    "\n",
    "\n",
    "## Topic 6: Web scraping\n",
    "\n",
    "A great deal of interesting data is available on the internet (!), but sometimes it's in the form of a table on a web page or other non-easily downloaded/read file. For example, HTML and XML are common ways to structure data online but are not exactly easy to read. [BeautifulSoup](https://www.crummy.com/software/BeautifulSoup/) is a Python library for parsing different types of structured text. This topic will acquaint you with the library and ask you to extract some data from a web page.\n",
    "\n",
    "[Topic 6 notebook](./OPER%20544%2006L%20Topic%206%20-%20Web%20scraping.ipynb)"
   ]
  },
  {
   "cell_type": "markdown",
   "metadata": {},
   "source": [
    "----------\n",
    "These topics pair well together. For instance, putting advanced graphing code into its own module for later reuse, writing a web-based user interface for your project, or converting an XML file into a SQL database.\n",
    "\n",
    "If you didn't get to everything you wanted today, it's likely we'll revisit these topics in future labs."
   ]
  }
 ],
 "metadata": {
  "kernelspec": {
   "display_name": "Python 3",
   "language": "python",
   "name": "python3"
  },
  "language_info": {
   "codemirror_mode": {
    "name": "ipython",
    "version": 3
   },
   "file_extension": ".py",
   "mimetype": "text/x-python",
   "name": "python",
   "nbconvert_exporter": "python",
   "pygments_lexer": "ipython3",
   "version": "3.6.8"
  }
 },
 "nbformat": 4,
 "nbformat_minor": 2
}
