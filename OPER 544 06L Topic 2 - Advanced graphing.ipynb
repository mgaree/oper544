{
 "cells": [
  {
   "cell_type": "markdown",
   "metadata": {},
   "source": [
    "# Advanced graphing\n",
    "\n",
    "Most Matplotlib tutorials cover the same set of standard plots: bar charts, scatter plots, line graphs. My lectures cover more advanced applications of data visualizations. Let's create some of those."
   ]
  },
  {
   "cell_type": "markdown",
   "metadata": {},
   "source": [
    "For just a quick refresher, read and run these cells."
   ]
  },
  {
   "cell_type": "code",
   "execution_count": null,
   "metadata": {},
   "outputs": [],
   "source": [
    "import matplotlib.pyplot as plt\n",
    "import numpy as np"
   ]
  },
  {
   "cell_type": "code",
   "execution_count": null,
   "metadata": {},
   "outputs": [],
   "source": [
    "n = np.array([0,1,2,3,4,5])\n",
    "xx = np.linspace(-0.75, 1., 100)\n",
    "x = np.linspace(0, 5, 11)\n",
    "y = x ** 2"
   ]
  },
  {
   "cell_type": "code",
   "execution_count": null,
   "metadata": {},
   "outputs": [],
   "source": [
    "fig, axes = plt.subplots(1, 4, figsize=(12,3))\n",
    "\n",
    "axes[0].scatter(xx, xx + 0.25*np.random.randn(len(xx)))\n",
    "axes[0].set_title(\"scatter\")\n",
    "\n",
    "axes[1].step(n, n**2, lw=2)\n",
    "axes[1].set_title(\"step\")\n",
    "\n",
    "axes[2].bar(n, n**2, align=\"center\", width=0.5, alpha=0.5)\n",
    "axes[2].set_title(\"bar\")\n",
    "\n",
    "axes[3].fill_between(x, x**2, x**3, color=\"green\", alpha=0.5)\n",
    "axes[3].set_title(\"fill_between\")"
   ]
  },
  {
   "cell_type": "markdown",
   "metadata": {},
   "source": [
    "## Dot chart\n",
    "\n",
    "We looked at the dot chart (or dot plot) as a solution to bar charts with long bars and small differences. Conceptually, this is a scatter plot with one categorical axis and distinctive horizontal grid lines. (We can customize the existing grid lines, or just draw some new lines ourselves.)\n",
    "\n",
    "*(Example copied from https://www.machinelearningplus.com/plots/top-50-matplotlib-visualizations-the-master-plots-python/#17.-Dot-Plot)*"
   ]
  },
  {
   "cell_type": "code",
   "execution_count": null,
   "metadata": {},
   "outputs": [],
   "source": [
    "%matplotlib inline\n",
    "\n",
    "# Prepare data\n",
    "import pandas as pd\n",
    "\n",
    "df_raw = pd.read_csv(\"https://github.com/selva86/datasets/raw/master/mpg_ggplot2.csv\")\n",
    "df = df_raw[['cty', 'manufacturer']].groupby('manufacturer').apply(lambda x: x.mean())\n",
    "df.sort_values('cty', inplace=True)\n",
    "df.reset_index(inplace=True)\n",
    "df.head()"
   ]
  },
  {
   "cell_type": "markdown",
   "metadata": {},
   "source": [
    "Let's start with just a scatter plot:"
   ]
  },
  {
   "cell_type": "code",
   "execution_count": null,
   "metadata": {},
   "outputs": [],
   "source": [
    "# Draw plot\n",
    "fig, ax = plt.subplots()\n",
    "\n",
    "# Draw the horizontal lines\n",
    "# TODO\n",
    "\n",
    "# Plot the data points\n",
    "ax.scatter(y=df.index, x=df.cty, s=75, color='firebrick', alpha=0.7)\n",
    "\n",
    "# Title, Label, Ticks and Ylim\n",
    "ax.set_title('Dot Plot for Highway Mileage', fontdict={'size':22})\n",
    "\n",
    "ax.set_xlabel('Miles Per Gallon')\n",
    "\n",
    "ax.set_yticks(df.index)\n",
    "ax.set_yticklabels(df.manufacturer.str.title(), fontdict={'horizontalalignment': 'right'})\n",
    "\n",
    "ax.set_xlim(10, 27)  # set the horizontal axis to [10, 27]\n",
    "# plt.show()"
   ]
  },
  {
   "cell_type": "markdown",
   "metadata": {},
   "source": [
    "With this many data points, it's a little hard to read which is which. You can figure it out, but some sort of visual line will make it easier.\n",
    "\n",
    "### Task\n",
    "\n",
    "We could manipulate the regular grid lines, but that gets fiddly. Let's draw some lines instead. We'll use `ax.hlines`: a method to draw **H**orizontal lines on an axis."
   ]
  },
  {
   "cell_type": "code",
   "execution_count": null,
   "metadata": {},
   "outputs": [],
   "source": [
    "help(ax.hlines)"
   ]
  },
  {
   "cell_type": "markdown",
   "metadata": {},
   "source": [
    "Here is one way to do that with our example:\n",
    "    \n",
    "```python\n",
    "ax.hlines(y=df.index, xmin=11, xmax=26, color='gray', \n",
    "          alpha=0.7, linewidth=1, linestyles='dashdot')```\n",
    "          \n",
    "The first three parameters say where to draw the lines, and the rest is just optional styling. Copy that into the code above and re-run.\n",
    "\n",
    "Edit any other parameters you want to make the graph more to your liking. When you're satisfied, move on to the next item."
   ]
  },
  {
   "cell_type": "markdown",
   "metadata": {},
   "source": [
    "## Dot-dash plot\n",
    "\n",
    "This is the scatterplot technique where the axis tick marks are drawn for each data point instead of some arbitrary interval. Doing that can reveal the marginal distribution of the data in addition to its joint distribution in the scatter.\n",
    "\n",
    "At its core, a dot-dash plot is a normal scatter plot with customized tick marks and tick mark labels.\n",
    "\n",
    "This example re-uses the MPG data from the dot plot, so you may need to re-run the 'Prepare data' cell if you've ran other examples before getting here."
   ]
  },
  {
   "cell_type": "code",
   "execution_count": null,
   "metadata": {},
   "outputs": [],
   "source": [
    "df_raw.head()"
   ]
  },
  {
   "cell_type": "code",
   "execution_count": null,
   "metadata": {},
   "outputs": [],
   "source": [
    "# Draw plot\n",
    "fig, ax = plt.subplots()\n",
    "\n",
    "# Plot the data points\n",
    "ax.scatter(y=df_raw.cty, x=df_raw.hwy, s=50, color='blue', alpha=0.5)\n",
    "\n",
    "ax.set_xlabel('City MPG')\n",
    "ax.set_ylabel('Highway MPG')"
   ]
  },
  {
   "cell_type": "markdown",
   "metadata": {},
   "source": [
    "To customize where the tick marks are drawn, we use `ax.xticks` and `ax.yticks`."
   ]
  },
  {
   "cell_type": "code",
   "execution_count": null,
   "metadata": {},
   "outputs": [],
   "source": [
    "xvals = df_raw.hwy.unique()  # using unique so we don't bother drawing multiple in the same place"
   ]
  },
  {
   "cell_type": "code",
   "execution_count": null,
   "metadata": {},
   "outputs": [],
   "source": [
    "# Draw plot\n",
    "fig, ax = plt.subplots()\n",
    "\n",
    "# Plot the data points\n",
    "ax.scatter(y=df_raw.cty, x=df_raw.hwy, s=50, color='blue', alpha=0.5)\n",
    "\n",
    "ax.set_xlabel('City MPG')\n",
    "ax.set_ylabel('Highway MPG')\n",
    "\n",
    "ax.set_xticks(xvals);"
   ]
  },
  {
   "cell_type": "markdown",
   "metadata": {},
   "source": [
    "That works, but looks ugly, because labels are drawn on each tick mark by default. (Also, this data set is all integers over a small range, so it's not as powerful a visual effect.)\n",
    "\n",
    "But we can't quite specify where to only draw labels; that's just not how the graph objects are designed. Instead, we can say that in the places we don't want labels, we just draw `''`, the empty string, instead.\n",
    "\n",
    "One tidy way to do this is with a formatter function:"
   ]
  },
  {
   "cell_type": "code",
   "execution_count": null,
   "metadata": {},
   "outputs": [],
   "source": [
    "xtick_labels_we_want = [12, 20, 30, 37, 41, 44]\n",
    "\n",
    "# based on https://matplotlib.org/stable/gallery/ticks_and_spines/tick_labels_from_values.html\n",
    "def format_xticks(tick_val, tick_pos):\n",
    "    if tick_val in xtick_labels_we_want:\n",
    "        return str(tick_val)\n",
    "    else:\n",
    "        return ''\n",
    "    "
   ]
  },
  {
   "cell_type": "code",
   "execution_count": null,
   "metadata": {},
   "outputs": [],
   "source": [
    "# Draw plot\n",
    "fig, ax = plt.subplots()\n",
    "\n",
    "# Plot the data points\n",
    "ax.scatter(y=df_raw.cty, x=df_raw.hwy, s=50, color='blue', alpha=0.5)\n",
    "\n",
    "ax.set_xlabel('City MPG')\n",
    "ax.set_ylabel('Highway MPG')\n",
    "\n",
    "ax.set_xticks(xvals)\n",
    "\n",
    "# tell Matplotlib to use our custom formatter when drawing the tick labels\n",
    "ax.xaxis.set_major_formatter(format_xticks);"
   ]
  },
  {
   "cell_type": "markdown",
   "metadata": {},
   "source": [
    "### Task\n",
    "\n",
    "Oops, we only did this for the horizontal axis. Do the same for the vertical, please! Then, remove the 'spines' from the axes. There's an example in the data visualization lab.\n",
    "\n",
    "Make any other customizations you desire before moving on."
   ]
  },
  {
   "cell_type": "markdown",
   "metadata": {},
   "source": [
    "## Slopegraphs\n",
    "\n",
    "Slopegraphs are like line charts where we only care about two (or more, but usually two) points for a series. Such as GDP of a country in 2000 and 2020."
   ]
  },
  {
   "cell_type": "code",
   "execution_count": null,
   "metadata": {},
   "outputs": [],
   "source": [
    "# Data extracted from https://raw.githubusercontent.com/Thiagobc23/slope-charts-Matplotlib/main/data/UNdata_gdp.csv\n",
    "# Example based on https://towardsdatascience.com/slope-charts-with-pythons-matplotlib-2c3456c137b8\n",
    "raw_csv = '''\"Country or Area\",\"Year\",\"Item\",\"Value\"\n",
    "\"Afghanistan\",\"2019\",\"Gross Domestic Product (GDP)\",\"469.919090127469\"\n",
    "\"Afghanistan\",\"2018\",\"Gross Domestic Product (GDP)\",\"483.885874505381\"\n",
    "\"Albania\",\"2019\",\"Gross Domestic Product (GDP)\",\"5303.19782273234\"\n",
    "\"Albania\",\"2018\",\"Gross Domestic Product (GDP)\",\"5254.3847977623\"\n",
    "\"Algeria\",\"2019\",\"Gross Domestic Product (GDP)\",\"3975.51038119501\"\n",
    "\"Algeria\",\"2018\",\"Gross Domestic Product (GDP)\",\"4153.9572199454\"\n",
    "\"Andorra\",\"2019\",\"Gross Domestic Product (GDP)\",\"40887.4216465747\"\n",
    "\"Andorra\",\"2018\",\"Gross Domestic Product (GDP)\",\"41794.3985720242\"\n",
    "\"Angola\",\"2019\",\"Gross Domestic Product (GDP)\",\"2670.85073226766\"\n",
    "\"Angola\",\"2018\",\"Gross Domestic Product (GDP)\",\"3289.64337378359\"\n",
    "\"Anguilla\",\"2019\",\"Gross Domestic Product (GDP)\",\"25528.573567178\"\n",
    "\"Anguilla\",\"2018\",\"Gross Domestic Product (GDP)\",\"21755.9536326769\"\n",
    "\"Antigua and Barbuda\",\"2019\",\"Gross Domestic Product (GDP)\",\"17112.8211347326\"\n",
    "\"Antigua and Barbuda\",\"2018\",\"Gross Domestic Product (GDP)\",\"16672.7442395764\"\n",
    "\"Argentina\",\"2019\",\"Gross Domestic Product (GDP)\",\"10041.4633030642\"\n",
    "\"Argentina\",\"2018\",\"Gross Domestic Product (GDP)\",\"11719.0756778825\"\n",
    "'''\n",
    "\n",
    "from io import StringIO  # let's you treat a string as a file-type object\n",
    "\n",
    "df = pd.read_csv(StringIO(raw_csv))\n",
    "df.head()"
   ]
  },
  {
   "cell_type": "markdown",
   "metadata": {},
   "source": [
    "First, we plot a single line."
   ]
  },
  {
   "cell_type": "code",
   "execution_count": null,
   "metadata": {},
   "outputs": [],
   "source": [
    "fig, ax = plt.subplots()\n",
    "\n",
    "temp = df[df['Country or Area'] == 'Albania']\n",
    "ax.plot(temp.Year, temp.Value)"
   ]
  },
  {
   "cell_type": "markdown",
   "metadata": {},
   "source": [
    "To plot multiple countries, how about a loop?"
   ]
  },
  {
   "cell_type": "code",
   "execution_count": null,
   "metadata": {},
   "outputs": [],
   "source": [
    "countries = [\"Afghanistan\", \"Algeria\", \"Angola\", \"Argentina\"]\n",
    "\n",
    "fig, ax = plt.subplots()\n",
    "\n",
    "for item in countries:\n",
    "    temp = df[df['Country or Area'] == item]\n",
    "    ax.plot(temp.Year, temp.Value)"
   ]
  },
  {
   "cell_type": "markdown",
   "metadata": {},
   "source": [
    "Too easy. But not quite there yet. The rest is just labeling the lines, adding heavier markers on the end points, and cleaning things up."
   ]
  },
  {
   "cell_type": "code",
   "execution_count": null,
   "metadata": {
    "scrolled": true
   },
   "outputs": [],
   "source": [
    "fig, ax = plt.subplots()\n",
    "\n",
    "\n",
    "for item in countries:\n",
    "    temp = df[df['Country or Area'] == item]\n",
    "\n",
    "    # plot the lines AND emphasize the endpoint marker\n",
    "    ax.plot(temp.Year, temp.Value, marker='o', markersize=5)\n",
    "    \n",
    "    # end label\n",
    "    # TODO\n",
    "    \n",
    "    # start label\n",
    "    ax.text(temp.Year.values[1]-0.02, temp.Value.values[1], item, ha='right')\n",
    "    \n",
    "# x limits, x ticks, and y label \n",
    "ax.set_xlim(2017.5, 2019.5)\n",
    "ax.set_xticks([2018, 2019])  # only want start and end labeled\n",
    "\n",
    "# get y ticks, replace 1,000 with k, and draw the ticks\n",
    "\n",
    "yticks = ax.get_yticks();\n",
    "# this line raises a warning but seems to work fine; feel free to try it out\n",
    "# ax.set_yticklabels(['{}k'.format(i/1000) for i in yticks]);\n",
    "\n",
    "# the semicolon at the end of the last line just suppresses a bunch of text output\n",
    "# it's not proper Python style, but it's accepted for working with Matplotlib"
   ]
  },
  {
   "cell_type": "markdown",
   "metadata": {},
   "source": [
    "### Task\n",
    "\n",
    "Putting a label on both ends of the line helps with reading. Do that. Decide if you'd like to include the value of the data on one (or both) ends, and modify the `ax.text` calls accordingly.\n",
    "\n",
    "If you label the points directly, the vertical axis seems kind of redundant, so clean that up.\n",
    "\n",
    "Make any other customizations you desire before moving on."
   ]
  },
  {
   "cell_type": "markdown",
   "metadata": {},
   "source": [
    "## Next steps\n",
    "\n",
    "In the time remaining for this topic, visit https://matplotlib.org/stable/gallery/index.html and identify two graphs that look interesting. Copy the example code into this notebook and customize it some. Some suggestions include [scatterplot with histograms](https://matplotlib.org/stable/gallery/lines_bars_and_markers/scatter_hist.html#sphx-glr-gallery-lines-bars-and-markers-scatter-hist-py), [box plot vs. violin plot](https://matplotlib.org/stable/gallery/statistics/boxplot_vs_violin.html#box-plot-vs-violin-plot-comparison), and [3d surface colormap](https://matplotlib.org/stable/gallery/mplot3d/surface3d.html#sphx-glr-gallery-mplot3d-surface3d-py)."
   ]
  },
  {
   "cell_type": "code",
   "execution_count": null,
   "metadata": {},
   "outputs": [],
   "source": []
  },
  {
   "cell_type": "code",
   "execution_count": null,
   "metadata": {},
   "outputs": [],
   "source": []
  },
  {
   "cell_type": "markdown",
   "metadata": {},
   "source": [
    "------------\n",
    "For more examples of advanced plots using Matplotlib, check out https://www.machinelearningplus.com/plots/top-50-matplotlib-visualizations-the-master-plots-python/."
   ]
  }
 ],
 "metadata": {
  "kernelspec": {
   "display_name": "Python 3",
   "language": "python",
   "name": "python3"
  },
  "language_info": {
   "codemirror_mode": {
    "name": "ipython",
    "version": 3
   },
   "file_extension": ".py",
   "mimetype": "text/x-python",
   "name": "python",
   "nbconvert_exporter": "python",
   "pygments_lexer": "ipython3",
   "version": "3.6.8"
  }
 },
 "nbformat": 4,
 "nbformat_minor": 2
}
