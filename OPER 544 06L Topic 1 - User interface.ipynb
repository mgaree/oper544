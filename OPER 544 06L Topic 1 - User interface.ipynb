{
 "cells": [
  {
   "cell_type": "markdown",
   "metadata": {},
   "source": [
    "# User interface\n",
    "\n",
    " While *graphical* user interfaces (GUI) are not the only option, it's the one most suited to building decision support systems, so that's the focus here. \n",
    "\n",
    "We'll start with some basic terminology, then you'll choose from either TKinter or PySimpleGUI to use to make a simple user interface. [Many options](https://wiki.python.org/moin/GuiProgramming) exist for building user interfaces in Python, so if the two studied here are not to your liking, I encourage you to search out alternatives."
   ]
  },
  {
   "cell_type": "markdown",
   "metadata": {},
   "source": [
    "## Terminology\n",
    "\n",
    "These tables present some high-level terms. While the items in the tables below might not be univerally and consistently used for discussing graphical user interfaces, they are a great start.\n",
    "\n",
    "<table class=\"colwidths-given docutils align-default\" id=\"id4\">\n",
    "<caption><span class=\"caption-text\"><strong>Standard UI terminology: Nouns</strong></span></caption>\n",
    "<colgroup>\n",
    "<col style=\"width: 25%\">\n",
    "<col style=\"width: 75%\">\n",
    "</colgroup>\n",
    "<thead>\n",
    "<tr class=\"row-odd\"><th class=\"head\"><p>Term</p></th>\n",
    "<th class=\"head\"><p>Meaning</p></th>\n",
    "</tr>\n",
    "</thead>\n",
    "<tbody>\n",
    "<tr class=\"row-even\"><td><p>Field</p></td>\n",
    "<td><p>An area in the GUI where you need to enter information.</p></td>\n",
    "</tr>\n",
    "<tr class=\"row-odd\"><td><p>Dialog</p></td>\n",
    "<td><p>A pop-up window that appears after an action. Do not use <cite>screen</cite>.</p></td>\n",
    "</tr>\n",
    "<tr class=\"row-even\"><td><p>Panel</p></td>\n",
    "<td><p>A toolbar or a control panel.</p></td>\n",
    "</tr>\n",
    "<tr class=\"row-odd\"><td><p>Pane</p></td>\n",
    "<td><p>An independent area in the GUI that you can scroll and resize.</p></td>\n",
    "</tr>\n",
    "<tr class=\"row-even\"><td><p>Button</p></td>\n",
    "<td><p>A graphical or web element which executes an action when clicked.</p></td>\n",
    "</tr>\n",
    "<tr class=\"row-odd\"><td><p>Icon</p></td>\n",
    "<td><p>A graphical or web element that represents a shortcut to an action.</p></td>\n",
    "</tr>\n",
    "<tr class=\"row-even\"><td><p>Tab</p></td>\n",
    "<td><p>A graphical or web element that groups a set of actions.</p></td>\n",
    "</tr>\n",
    "<tr class=\"row-odd\"><td><p>Wizard</p></td>\n",
    "<td><p>A dialog that walks a user through the sequence of steps to perform\n",
    "a particular task.</p></td>\n",
    "</tr>\n",
    "</tbody>\n",
    "</table>\n",
    "\n",
    "<table class=\"colwidths-given docutils align-default\" id=\"id3\">\n",
    "<caption><span class=\"caption-text\"><strong>Standard UI terminology: Verbs</strong></span></caption>\n",
    "<colgroup>\n",
    "<col style=\"width: 25%\">\n",
    "<col style=\"width: 75%\">\n",
    "</colgroup>\n",
    "<thead>\n",
    "<tr class=\"row-odd\"><th class=\"head\"><p>Term</p></th>\n",
    "<th class=\"head\"><p>Meaning</p></th>\n",
    "</tr>\n",
    "</thead>\n",
    "<tbody>\n",
    "<tr class=\"row-even\"><td><p>Click</p></td>\n",
    "<td><p>An act of pressing and releasing of a mouse button.</p></td>\n",
    "</tr>\n",
    "<tr class=\"row-odd\"><td><p>Press</p></td>\n",
    "<td><p>An action that requires pressing a button (physically) on your\n",
    "keyboard, a power button, and so on.</p></td>\n",
    "</tr>\n",
    "<tr class=\"row-even\"><td><p>Type</p></td>\n",
    "<td><p>An act of pressing a key to type it into a text box, etc.</p></td>\n",
    "</tr>\n",
    "</tbody>\n",
    "</table>\n",
    "\n",
    "(Tables copied from https://docs.openstack.org/doc-contrib-guide/writing-style/ui-terminology.html#graphical-and-web-user-interfaces-guidelines.)\n",
    "\n",
    "One missing from the list is **widget**, the collective name for almost all graphical control elements available in a GUI. The set of widgets include buttons, sliders, drop-down lists, text boxes, and more."
   ]
  },
  {
   "cell_type": "markdown",
   "metadata": {},
   "source": [
    "---------\n",
    "\n",
    "### <font color=\"blue\">Reading Questions</font>\n",
    "\n",
    "Consult this [list of common generic widgets](https://en.wikipedia.org/wiki/Graphical_widget#List_of_common_generic_widgets) to answer these questions.\n",
    "\n",
    "1. Contrast a list box and a drop-down list.\n",
    "\n",
    "2. If a user can choose from multiple options, when should you use a radio button widget? When should you use a check box widget?\n",
    "\n",
    "3. In your opinion, would you rather use a slider or a spinner to specify the *p*-value in a regression test user interface? Why?\n",
    "\n",
    "4. What's the name of the small popup that appears when you place the mouse cursor over an area of interest?\n"
   ]
  },
  {
   "cell_type": "markdown",
   "metadata": {},
   "source": [
    "YOUR ANSWERS HERE"
   ]
  },
  {
   "cell_type": "markdown",
   "metadata": {},
   "source": [
    "--------------\n",
    "\n",
    "The routines (functions or methods) that actually do the work of the GUI are called \"callback handlers\" or \"event handlers\".  **Events** are input events such as mouse clicks or presses of a key on the keyboard.  These routines are called **handlers** because they \"handle\" (that is, respond to) such events.\n",
    "\n",
    "Associating an event handler with a widget is called **binding**.  Roughly, the\n",
    "process of binding involves associating three different things: \n",
    "\n",
    "* a type of event (e.g. a click of the left mouse button, \n",
    "    or a press of the ENTER key on the keyboard), \n",
    "* a widget (e.g. a button), and \n",
    "* an event-handler routine.  \n",
    "\n",
    "For example, we might bind (a) a single-click of the left mouse button on (b) the \"CLOSE\" button/widget on the screen to (c) the \"closeProgram\" routine, which closes the window and shuts down the program.\n",
    "\n",
    "The code that sits and waits for input is called the **event loop**."
   ]
  },
  {
   "cell_type": "markdown",
   "metadata": {},
   "source": [
    "## The four basic GUI-programming tasks\n",
    "\n",
    "*(This and previoius cell copied from '[Thinking in TkInter](http://thinkingtkinter.sourceforge.net/tt000_py.txt)')*\n",
    "\n",
    "\n",
    "When you develop a user interface (UI) there is a standard set of tasks that you must accomplish.\n",
    "\n",
    "1) You must specify how you want the UI to *look*.  That is, you must write code that determines what the user will see on the computer screen.\n",
    "\n",
    "2) You must decide what you want the UI to *do*.  That is, you must write routines that accomplish the tasks of the program.\n",
    "\n",
    "3) You must associate the \"looking\" with the \"doing\".  That is, you must write code that associates the things that the user sees on the screen with the routines that you have written to perform the program's tasks.\n",
    "\n",
    "4) Finally, you must write code that sits and waits for input from the user."
   ]
  },
  {
   "cell_type": "markdown",
   "metadata": {},
   "source": [
    "## Framework introduction\n",
    "\n",
    "We're looking at two Python GUI frameworks today: TkInter and PySimpleGUI. Before choosing which you'd like to work with, here are some basics with small examples.\n",
    "\n",
    "[TkInter](https://coderslegacy.com/python/python-gui/) is the oldest and most commonly used library for making GUIs in Python. You can do pretty much anything GUI-related with it. Many folks find it very complicated to learn, which is a side-effect of being able to do anything with it. This comes installed with Anaconda's Python distribution.\n",
    "\n",
    "[PySimpleGUI](https://github.com/PySimpleGUI/PySimpleGUI) is a \"wrapper\" or simplification of other GUI frameworks. It does a lot of the complicated stuff for you. As a result, it doesn't do *everything* for you. (You can still access the specific objects of the underlying complicated framework if needed.) Building a GUI that can do a lot of things--but not everything--is probably fine for most people."
   ]
  },
  {
   "cell_type": "markdown",
   "metadata": {},
   "source": [
    "### TkInter\n",
    "\n",
    "<font color=\"red\">Read this before running the next code cell!</font>\n",
    "\n",
    "You can run the simplest TkInter program by running the next code cell below. Note two things:\n",
    "\n",
    "1. When you do, the `In [ ]:` to the left of the cell should show an asterisk, as in `In [*]:`. That is Jupyter-speak for \"this cell is still running\".\n",
    "\n",
    "2. What's running is a new window. Check your task bar. On Windows, it shows up as a white piece of paper icon. If you click that, the TkInter window should appear. It's just an empty grey box. Close it in the usual way you close a window. At that point, the `In [*]` should show a number, indicating that code is complete.\n",
    "\n",
    "The 'so what' of those two points is that when you run code that opens a GUI, that code keeps running as long as the window exists. This is the *event loop* defined earlier. So, you can't open a GUI, then run more code in your notebook and expect the GUI to be updated in real-time. You need to close the GUI window, edit your code, then re-run it to restart the GUI.\n",
    "\n",
    "Now, run the next cell."
   ]
  },
  {
   "cell_type": "code",
   "execution_count": null,
   "metadata": {},
   "outputs": [],
   "source": [
    "from tkinter import Tk\n",
    "\n",
    "root = Tk()\n",
    "root.mainloop()"
   ]
  },
  {
   "cell_type": "markdown",
   "metadata": {},
   "source": [
    "Congrats, you are now a GUI programmer! 😊\n",
    "\n",
    "Here's a more complicated program. It's a simple text editor from https://realpython.com/python-gui-tkinter/. You can open files, edit text in the main pane, and save files. Same deal with `[*]` and closing the window to keep working."
   ]
  },
  {
   "cell_type": "code",
   "execution_count": null,
   "metadata": {},
   "outputs": [],
   "source": [
    "import tkinter as tk\n",
    "from tkinter.filedialog import askopenfilename, asksaveasfilename\n",
    "\n",
    "def open_file():\n",
    "    \"\"\"Open a file for editing.\"\"\"\n",
    "    filepath = askopenfilename(\n",
    "        filetypes=[(\"Text Files\", \"*.txt\"), (\"All Files\", \"*.*\")]\n",
    "    )\n",
    "    if not filepath:\n",
    "        return\n",
    "    txt_edit.delete(1.0, tk.END)\n",
    "    with open(filepath, \"r\") as input_file:\n",
    "        text = input_file.read()\n",
    "        txt_edit.insert(tk.END, text)\n",
    "    window.title(f\"Simple Text Editor - {filepath}\")\n",
    "\n",
    "def save_file():\n",
    "    \"\"\"Save the current file as a new file.\"\"\"\n",
    "    filepath = asksaveasfilename(\n",
    "        defaultextension=\"txt\",\n",
    "        filetypes=[(\"Text Files\", \"*.txt\"), (\"All Files\", \"*.*\")],\n",
    "    )\n",
    "    if not filepath:\n",
    "        return\n",
    "    with open(filepath, \"w\") as output_file:\n",
    "        text = txt_edit.get(1.0, tk.END)\n",
    "        output_file.write(text)\n",
    "    window.title(f\"Simple Text Editor - {filepath}\")\n",
    "\n",
    "window = tk.Tk()\n",
    "window.title(\"Simple Text Editor\")\n",
    "window.rowconfigure(0, minsize=800, weight=1)\n",
    "window.columnconfigure(1, minsize=800, weight=1)\n",
    "\n",
    "txt_edit = tk.Text(window)\n",
    "fr_buttons = tk.Frame(window, relief=tk.RAISED, bd=2)\n",
    "btn_open = tk.Button(fr_buttons, text=\"Open\", command=open_file)\n",
    "btn_save = tk.Button(fr_buttons, text=\"Save As...\", command=save_file)\n",
    "\n",
    "btn_open.grid(row=0, column=0, sticky=\"ew\", padx=5, pady=5)\n",
    "btn_save.grid(row=1, column=0, sticky=\"ew\", padx=5)\n",
    "\n",
    "fr_buttons.grid(row=0, column=0, sticky=\"ns\")\n",
    "txt_edit.grid(row=0, column=1, sticky=\"nsew\")\n",
    "\n",
    "window.mainloop()\n"
   ]
  },
  {
   "cell_type": "markdown",
   "metadata": {},
   "source": [
    "### PySimpleGUI\n",
    "\n",
    "This library is not installed by default. You have two options: install it or download the source file and put in your working directory.\n",
    "\n",
    "1. Uncomment the `!pip install` code in the next cell and run it to install. If you are using a lab computer, this won't work 😢. \n",
    "\n",
    "2. Go to [here](https://raw.githubusercontent.com/PySimpleGUI/PySimpleGUI/master/PySimpleGUI.py) on GitHub. Save that web page as a .py file in the same directory as this notebook. You should be able to import it as usual. (I've not tested this but [the authors](https://github.com/PySimpleGUI/PySimpleGUI#single-file-installing) intend for it to work.)"
   ]
  },
  {
   "cell_type": "code",
   "execution_count": null,
   "metadata": {},
   "outputs": [],
   "source": [
    "#!pip install pysimplegui"
   ]
  },
  {
   "cell_type": "markdown",
   "metadata": {},
   "source": [
    "Here's an example program from the project's [home page](https://github.com/PySimpleGUI/PySimpleGUI)"
   ]
  },
  {
   "cell_type": "code",
   "execution_count": null,
   "metadata": {},
   "outputs": [],
   "source": [
    "import PySimpleGUI as sg                        # Part 1 - The import\n",
    "\n",
    "# Define the window's contents\n",
    "layout = [  [sg.Text(\"What's your name?\")],     # Part 2 - The Layout\n",
    "            [sg.Input()],\n",
    "            [sg.Button('Ok')] ]\n",
    "\n",
    "# Create the window\n",
    "window = sg.Window('Window Title', layout)      # Part 3 - Window Defintion\n",
    "                                                \n",
    "# Display and interact with the Window\n",
    "event, values = window.read()                   # Part 4 - Event loop or Window.read call\n",
    "\n",
    "# Do something with the information gathered\n",
    "print('Hello', values[0], \"! Thanks for trying PySimpleGUI\")\n",
    "\n",
    "# Finish up by removing from the screen\n",
    "window.close()"
   ]
  },
  {
   "cell_type": "markdown",
   "metadata": {},
   "source": [
    "Here's a similar text editor example using PySimpleGUI. Instead of buttons for Open and Save, there is a File menu."
   ]
  },
  {
   "cell_type": "code",
   "execution_count": null,
   "metadata": {},
   "outputs": [],
   "source": [
    "\"\"\"\n",
    "  Adapted from https://github.com/israel-dryer/Notepad/blob/master/notepad.py\n",
    "\"\"\"\n",
    "import PySimpleGUI as sg\n",
    "import pathlib\n",
    "\n",
    "WIN_W = 90\n",
    "WIN_H = 25\n",
    "file = None\n",
    "\n",
    "menu_layout = [['File', ['Open (Ctrl+O)', 'Save As', ]]]\n",
    "\n",
    "layout = [[sg.Menu(menu_layout)],\n",
    "          [sg.Text('', font=('Consolas', 10), size=(WIN_W, 1), key='_INFO_')],\n",
    "          [sg.Multiline(font=('Consolas', 12), size=(WIN_W, WIN_H), key='_BODY_')]]\n",
    "\n",
    "window = sg.Window('Notepad', layout=layout, margins=(0, 0), resizable=True, return_keyboard_events=True, finalize=True)\n",
    "\n",
    "\n",
    "def open_file():\n",
    "    '''Open file and update the infobar'''\n",
    "    filename = sg.popup_get_file('Open', no_window=True)\n",
    "    if filename:\n",
    "        file = pathlib.Path(filename)\n",
    "        window['_BODY_'].update(value=file.read_text())\n",
    "        window['_INFO_'].update(value=file.absolute())\n",
    "        return file\n",
    "\n",
    "def save_file_as():\n",
    "    '''Save new file or save existing file with another name'''\n",
    "    filename = sg.popup_get_file('Save As', save_as=True, no_window=True)\n",
    "    if filename:\n",
    "        file = pathlib.Path(filename)\n",
    "        file.write_text(values.get('_BODY_'))\n",
    "        window['_INFO_'].update(value=file.absolute())\n",
    "        return file\n",
    "\n",
    "\n",
    "while True:\n",
    "    event, values = window.read()\n",
    "    if event in('Exit', None):\n",
    "        break\n",
    "    if event in ('Open (Ctrl+O)', 'o:79'):\n",
    "        file = open_file()\n",
    "    if event in ('Save As',):\n",
    "        file = save_file_as()\n"
   ]
  },
  {
   "cell_type": "markdown",
   "metadata": {},
   "source": [
    "## Next steps\n",
    "\n",
    "Which to choose? I can't recommend one versus the other, but 'Simple' in the name of one will certainly appeal to some students.\n",
    "\n",
    "As you work through your chosen tutorial, you can simply copy-paste the example code, but if your screen size allows it, I'd encourage retyping at least some of it; surprisingly, you learn more that way.\n",
    "\n",
    "Where to put your code? You can add cells at the end of this notebook, create a new notebook (from the File menu), or work in a .py file if you're acquainted with that (e.g., the *Module*-ar code topic).\n",
    "\n",
    "**TkInter tutorials:**\n",
    "\n",
    "* (Easier) https://pythonprogramming.net/python-3-tkinter-basics-tutorial/\n",
    "    * This is spread out over five pages. Click \"The next tutorial (button)\" to move along.\n",
    "* (Harder) https://python-textbok.readthedocs.io/en/1.0/Introduction_to_GUI_Programming.html\n",
    "    * Do the exercises!\n",
    "\n",
    "For a complete education in TkInter, consider http://thinkingtkinter.sourceforge.net/#contents_item_2 . It's a lot more reading, but also a lot more philosophy behind GUI design. Note that the code examples are in Python 2 and an older version of TkInter, so you won't be able to run them as-is.\n",
    "\n",
    "**PySimpleGUI tutorials:**\n",
    "\n",
    "* (Recommended) https://realpython.com/pysimplegui-python/#creating-basic-ui-elements-in-pysimplegui ; includes an example working with Matplotlib\n",
    "* (A very small introduction) https://holypython.com/creating-gui-programs-w-python-fast-easy-pysimplegui/\n",
    "\n",
    "The site pysimplegui.readthedocs.io has tons of examples and information, but the website nearly crashes my computer each time I load it, so I'm not linking to it directly. The resources are good if your browser doesn't catch on fire."
   ]
  },
  {
   "cell_type": "markdown",
   "metadata": {},
   "source": [
    "## Exercise\n",
    "\n",
    "This is an idea for an exercise that seems relevant to DSS building. \n",
    "\n",
    "Construct a GUI that lets the user enter data into a table. Think something like a spreadsheet. When the user says they're done entering data, you should capture their input as either a Pandas dataframe or a CSV file."
   ]
  }
 ],
 "metadata": {
  "kernelspec": {
   "display_name": "Python 3",
   "language": "python",
   "name": "python3"
  },
  "language_info": {
   "codemirror_mode": {
    "name": "ipython",
    "version": 3
   },
   "file_extension": ".py",
   "mimetype": "text/x-python",
   "name": "python",
   "nbconvert_exporter": "python",
   "pygments_lexer": "ipython3",
   "version": "3.6.8"
  }
 },
 "nbformat": 4,
 "nbformat_minor": 2
}
